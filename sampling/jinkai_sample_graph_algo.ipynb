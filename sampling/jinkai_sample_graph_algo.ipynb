{
 "cells": [
  {
   "cell_type": "code",
   "execution_count": 1,
   "metadata": {
    "id": "QwzAtfuixRl8"
   },
   "outputs": [
    {
     "name": "stdout",
     "output_type": "stream",
     "text": [
      "['Henry_Fonda', 'Germany', 'Belgium', 'Spain', 'Jean-Luc_Godard', 'Austria', 'Murray_Gell-Mann', 'Israel', 'Paul_Erdős', 'United_Kingdom', 'Cuba', 'Mauritania', 'Friedrich_Hirzebruch', 'Vannevar_Bush', 'Niels_Bohr', 'Otto_Hahn', 'Denmark', 'Lev_Landau', 'Pakistan', 'Steven_Spielberg', 'Robert_Solow', 'Switzerland', 'Hans_Bethe', 'Wassily_Leontief', 'Russia', 'Egypt', 'Croatia', 'Douglas_Engelbart', 'Ivory_Coast', 'Finland', 'Henri_Poincaré', 'France', 'Jacques_Chaban-Delmas', 'Kenneth_G._Wilson', 'Richard_Feynman', 'Czech_Republic', 'Nawaz_Sharif', 'Paul_Dirac', 'John_F._Kennedy', 'Portugal', 'Eugene_Wigner', 'Francis_Ford_Coppola', 'Burundi', 'Wolfgang_Pauli', 'Indonesia', 'Carl_Sagan', 'United_Arab_Emirates', 'Oman', 'El_Salvador', 'André_Weil', 'Rwanda', 'Gerald_Ford', 'Carl_Friedrich_Gauss', 'Sweden', 'Namibia', 'Aníbal_Cavaco_Silva', 'Luxembourg', 'Afghanistan', 'Zimbabwe', 'Seymour_Benzer', 'Justus_von_Liebig', 'Gustav_Kirchhoff', 'Paul_Samuelson', 'Konrad_Adenauer', 'Lazarus_Fuchs', 'Giulio_Andreotti', 'David_Lynch', 'Slovenia', 'Dennis_William_Sciama', 'Werner_Heisenberg', 'Mustafa_Kemal_Atatürk', 'Nicolas_Sarkozy', 'Peru', 'Simon_Donaldson', 'Zambia', 'John_Kerry', 'Canada', 'Pierre-Gilles_de_Gennes', 'Algeria', 'Roger_Penrose', 'Solomon_Lefschetz', 'Thailand', 'Victor_Weisskopf', 'Ross_Macdonald', 'John_von_Neumann', 'Nigeria', 'Burt_Bacharach', 'Republic_of_Ireland', 'Edward_Witten', 'Friedrich_Hayek', 'Roger_Ebert', 'Dominique_de_Villepin', 'North_Korea', 'Belize', 'Robert_B._Parker', 'Tunisia', 'Mário_Soares', 'Erwin_Schrödinger', 'Serge_Gainsbourg', 'Tajikistan', 'Sudan', 'Leonid_Hurwicz', 'Nicolae_Iorga', 'Walt_Disney', 'Benin', 'Pierre_Trudeau', 'John_Adams', 'Angola', 'Sunil_Dutt', 'Ludwig_Wittgenstein', 'Federico_Fellini', 'Robert_Altman', 'South_Africa', 'Jorge_Sampaio', 'Patrick_White', 'George_H._W._Bush', 'Jacques_Chirac', 'Robert_Fogel', 'Netherlands', 'Raoul_Bott', 'John_G._Thompson', 'Charles_de_Gaulle', 'Joseph_Schumpeter', 'Lionel_Messi', 'Saudi_Arabia', 'Barack_Obama', 'Haiti', 'Honduras', 'Kuwait', 'Philippe_Séguin', 'August_Wilhelm_von_Hofmann', 'Malta', 'Norway', 'Ronald_Fisher', 'José_Ferrer', 'Francesco_Cossiga', 'David_Cox_(statistician)', 'Democratic_Republic_of_the_Congo', 'Cameroon', 'Louis_Pasteur', 'Sylvia_Plath', 'Colombia', 'Charlie_Chaplin', 'Raymond_Poincaré', 'China', 'Giuliano_Amato', 'Julianne_Moore', 'Subrahmanyan_Chandrasekhar', 'Grigori_Perelman', 'South_Korea', 'Turkey', 'Republic_of_Macedonia', 'Alexander_Herzen', 'Jordan', 'Lionel_Jospin', 'Yakir_Aharonov', 'Richard_Brauer', 'Malaysia', 'Julian_Schwinger', 'Richard_Courant', 'Greece', 'James_Tobin', 'Winston_Churchill', 'India', 'Rudolf_Peierls', 'Adolf_Hitler', 'Botswana', 'Nicaragua', 'Rosa_Luxemburg', 'Charles_K._Kao', 'Pervez_Musharraf', 'George_Dantzig', 'Terence_Tao', 'Alexander_Graham_Bell', 'George_Papandreou', 'Felix_Klein', 'Laurent_Schwartz', 'Carlo_Azeglio_Ciampi', 'Robert_Bunsen', 'Togo', 'Judy_Garland', 'Paraguay', 'Igor_Tamm', 'Clifford_Geertz', 'Pierre_Pflimlin', 'Ronald_Reagan', 'Alexandre_Millerand', 'William_Thomson,_1st_Baron_Kelvin', 'Richard_Hofstadter', 'Arnold_Sommerfeld', 'Costa_Rica', 'Shelley_Winters', 'Benoit_Mandelbrot', 'Ernst_Kummer', 'John_Cassavetes', 'Moldova', 'Rubén_Blades', 'Václav_Havel', 'Vietnam', 'Lennart_Meri', 'Morocco', 'Bronisław_Komorowski', 'Hermann_Kolbe', 'Edmund_Gwenn', 'Anton_Chekhov', 'Gregory_Peck', 'Hannah-Beth_Jackson', 'Laurent_Fabius', 'John_Henry_Newman', 'Roald_Dahl', 'Brooke_Shields', 'Woodrow_Wilson', 'Leon_Trotsky', 'M._S._Swaminathan', 'Ernest_Rutherford', 'Milton_Friedman', 'Mitt_Romney', 'Elizabeth_II', 'Ernst_Mach', 'Ernest_Lawrence', 'Honoré_de_Balzac', 'Marion_Zimmer_Bradley', 'Laos', 'Syria', 'Rimas_Kurtinaitis', 'Peter_Debye', 'Alfred_Tarski', 'Yemen', 'Alexander_Haig', 'Pierre_Deligne', \"Valéry_Giscard_d'Estaing\", 'Hans-Georg_Gadamer', 'Robert_Rodriguez', 'New_Zealand', 'Martin_Rees,_Baron_Rees_of_Ludlow', 'John_McCain', 'Curd_Jürgens', 'Bangladesh', 'Mozambique', 'George_Best', 'Republic_of_the_Congo', 'Albert_Einstein', 'Allen_Ginsberg', 'David_Sedaris', 'Jean_Fuller', 'Dennis_Lehane', 'Mao_Zedong', 'Dick_Cheney', 'Émile_Durkheim', 'Gene_Kelly', 'Eugen_Böhm_von_Bawerk', 'Stephen_Hawking', 'Brazil', 'John_Cleese', 'United_States', 'East_Timor', 'Djibouti', 'Senegal', 'Tim_Berners-Lee', 'Piero_Sraffa', 'Azerbaijan', 'Joseph_Stiglitz', 'Adam_Smith', 'Steven_Weinberg', 'Quentin_Tarantino', 'Romania', 'Liberia', 'Dan_Castellaneta', 'Frank_Sinatra', 'Ricardo_Montalbán', 'Bulgaria', 'George_Santayana', 'Rod_Serling', 'Abdus_Salam', 'James_Watson', 'Ludwig_Boltzmann', 'Harry_B._Gray', 'Tony_Curtis', 'Suriname', 'Eritrea', 'Libya', 'Dwight_D._Eisenhower', 'Norbert_Wiener', 'Uzbekistan', 'Lithuania', 'Belarus', 'Jeremiah_Denton', 'Eugène_Ionesco', 'Alain_Juppé', 'Daniel_Dennett', 'Vladimir_Chelomey', 'James_Gosling', 'Julia_Kristeva', 'Kurt_Vonnegut', 'Uruguay', 'Bahrain', 'Alexander_R._Todd,_Baron_Todd', 'Prince_Philip,_Duke_of_Edinburgh', 'Chien-Shiung_Wu', 'Jean-Louis_Borloo']\n",
      "Graph sampled has 3314 nodes and 8486 edges\n",
      "Graph has 35967 nodes and 79712 edges\n"
     ]
    }
   ],
   "source": [
    "# Author:  Jinkai Wang\n",
    "import networkx as nx\n",
    "import random\n",
    "\n",
    "\n",
    "\n",
    "\n",
    "def directed_random_walk_sampling(graph, seed_nodes, walk_length=10, sample_size=20000, p_restart=0.7):\n",
    "\n",
    "    \"\"\"\n",
    "    在有向图上执行改进的随机游走采样\n",
    "    - 避免走到无出度节点时卡住\n",
    "    - 允许一定概率随机跳跃到新的种子节点\n",
    "    \"\"\"\n",
    "    sampled_nodes = set(seed_nodes)\n",
    "\n",
    "    for node in seed_nodes:\n",
    "        current_node = node\n",
    "        for _ in range(walk_length):\n",
    "            if random.random() < p_restart:\n",
    "                current_node = random.choice(seed_nodes)  # 以一定概率重置到起始节点\n",
    "            else:\n",
    "                neighbors = list(graph.successors(current_node))  # 只看出边\n",
    "                if not neighbors:\n",
    "                    break  # 没有出边就终止当前游走\n",
    "                current_node = random.choice(neighbors)\n",
    "\n",
    "            sampled_nodes.add(current_node)\n",
    "            if len(sampled_nodes) >= sample_size:\n",
    "                break\n",
    "        if len(sampled_nodes) >= sample_size:\n",
    "            break\n",
    "\n",
    "    return graph.subgraph(sampled_nodes)\n",
    "\n",
    "G = nx.read_edgelist(\"../data/YAGO43kET/KG_train.txt\", create_using=nx.DiGraph(), nodetype=str, data=[(\"relation\", str)])\n",
    "\n",
    "num_hubs = 300  #inclure ici les n premiers grand noeud qui porte beaucoup darc sortant.\n",
    "high_outdegree_nodes = sorted(G.out_degree, key=lambda x: x[1], reverse=True)[:num_hubs]\n",
    "hub_seeds = [node for node, _ in high_outdegree_nodes]\n",
    "print(hub_seeds)\n",
    "valid_seeds = [node for node in G.nodes() if len(list(G.successors(node))) > 0]\n",
    "seed_nodes1 = random.sample(valid_seeds, 3000)  # ici on choisit les nombres voulus des autres point de part.\n",
    "seed_nodes = hub_seeds + seed_nodes1# la somme des des deux noeuds initiaux forme la taille de graphe. vous pouvez changer comme vous voulez\n",
    "\n",
    "\n",
    "\n",
    "\n",
    "\n",
    "G_sampled = directed_random_walk_sampling(G, seed_nodes, walk_length=10, sample_size=20000, p_restart=0.7) # ici vous choisiez les parametres de echantilloner\n",
    "#walk length plus grand vous aurez le graph plus global\n",
    "#p restard pour resortir quand on rencontre un chemin termine ou un entite avec beaucoup darc sortant.\n",
    "\n",
    "\n",
    "\n",
    "print(f\"Graph sampled has {G_sampled.number_of_nodes()} nodes and {G_sampled.number_of_edges()} edges\")\n",
    "print(f\"Graph has {G.number_of_nodes()} nodes and {G.number_of_edges()} edges\")\n",
    "\n",
    "\n",
    "\n",
    "def save_triplets_to_txt(edges, file_path=\"triplets.txt\"):\n",
    "    with open(file_path, \"w\", encoding=\"utf-8\") as f:\n",
    "        for head, relation, tail in edges:\n",
    "            f.write(f\"{head}\\t{relation}\\t{tail}\\n\")\n",
    "\n",
    "edges = [(u, v, d[\"relation\"]) for u, v, d in G_sampled.edges(data=True)]\n",
    "\n",
    "save_triplets_to_txt(edges)"
   ]
  }
 ],
 "metadata": {
  "colab": {
   "provenance": []
  },
  "kernelspec": {
   "display_name": "Python 3",
   "name": "python3"
  },
  "language_info": {
   "codemirror_mode": {
    "name": "ipython",
    "version": 3
   },
   "file_extension": ".py",
   "mimetype": "text/x-python",
   "name": "python",
   "nbconvert_exporter": "python",
   "pygments_lexer": "ipython3",
   "version": "3.11.9"
  }
 },
 "nbformat": 4,
 "nbformat_minor": 0
}
